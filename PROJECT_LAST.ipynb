{
  "nbformat": 4,
  "nbformat_minor": 0,
  "metadata": {
    "colab": {
      "name": "PROJECT_LAST.ipynb",
      "provenance": [],
      "collapsed_sections": []
    },
    "kernelspec": {
      "name": "python3",
      "display_name": "Python 3"
    },
    "language_info": {
      "name": "python"
    },
    "accelerator": "GPU"
  },
  "cells": [
    {
      "cell_type": "code",
      "metadata": {
        "id": "JYTmKQ1N8lSd"
      },
      "source": [
        "import os\n",
        "import cv2\n",
        "import torch\n",
        "import json\n",
        "import numpy as np\n",
        "from google.colab import drive\n",
        "from IPython.display import clear_output "
      ],
      "execution_count": 1,
      "outputs": []
    },
    {
      "cell_type": "code",
      "metadata": {
        "id": "lMEC_ueC6_V4"
      },
      "source": [
        "import matplotlib.pyplot as plt"
      ],
      "execution_count": 2,
      "outputs": []
    },
    {
      "cell_type": "markdown",
      "metadata": {
        "id": "OZu3KKtEcgd1"
      },
      "source": [
        "Скачиваем модель"
      ]
    },
    {
      "cell_type": "code",
      "metadata": {
        "id": "Lzas6j-ocQSB"
      },
      "source": [
        "# !gdown --id 1waoOULCmz1PA0K4pfSkTVHsCe9GYxzte -O /content/model.pt"
      ],
      "execution_count": 3,
      "outputs": []
    },
    {
      "cell_type": "markdown",
      "metadata": {
        "id": "_SJ56IT5c2Jq"
      },
      "source": [
        "Клонируем репу"
      ]
    },
    {
      "cell_type": "code",
      "metadata": {
        "colab": {
          "base_uri": "https://localhost:8080/"
        },
        "id": "gCFhKLAIcxBg",
        "outputId": "5f77cbf8-4028-4ea8-f356-15edecb6ff31"
      },
      "source": [
        "%cd /content\n",
        "# !git clone https://github.com/STASVLAD/Tips-and-Tricks-in-DL"
      ],
      "execution_count": 4,
      "outputs": [
        {
          "output_type": "stream",
          "text": [
            "/content\n"
          ],
          "name": "stdout"
        }
      ]
    },
    {
      "cell_type": "markdown",
      "metadata": {
        "id": "lTi2djabdMcd"
      },
      "source": [
        "Устанавливаем необходимые зависимости"
      ]
    },
    {
      "cell_type": "code",
      "metadata": {
        "id": "ZO5ScG1UdAcR"
      },
      "source": [
        "# %cd Tips-and-Tricks-in-DL\n",
        "# %pip install -qr requirements.txt \n",
        "# \n",
        "# print('Setup complete. Using torch %s %s' % (torch.__version__, torch.cuda.get_device_properties(0) if torch.cuda.is_available() else 'CPU'))"
      ],
      "execution_count": 5,
      "outputs": []
    },
    {
      "cell_type": "code",
      "metadata": {
        "colab": {
          "base_uri": "https://localhost:8080/"
        },
        "id": "RU6n7dhsDn3w",
        "outputId": "eb6cbbc7-7d09-4e46-b91b-72514bd5614e"
      },
      "source": [
        "drive.mount('/content/drive')"
      ],
      "execution_count": 6,
      "outputs": [
        {
          "output_type": "stream",
          "text": [
            "Mounted at /content/drive\n"
          ],
          "name": "stdout"
        }
      ]
    },
    {
      "cell_type": "code",
      "metadata": {
        "colab": {
          "base_uri": "https://localhost:8080/"
        },
        "id": "YHSYBfSS5ZJi",
        "outputId": "28b26ae5-98ce-4d0a-9b22-47bf7554a457"
      },
      "source": [
        "# убрать \n",
        "%cd /content/drive/MyDrive/Project/yolov3\n",
        "%pip install -qr requirements.txt \n",
        "\n",
        "print('Setup complete. Using torch %s %s' % (torch.__version__, torch.cuda.get_device_properties(0) if torch.cuda.is_available() else 'CPU'))"
      ],
      "execution_count": 7,
      "outputs": [
        {
          "output_type": "stream",
          "text": [
            "/content/drive/MyDrive/Project/yolov3\n",
            "\u001b[K     |████████████████████████████████| 645kB 8.3MB/s \n",
            "\u001b[?25hSetup complete. Using torch 1.8.1+cu101 _CudaDeviceProperties(name='Tesla T4', major=7, minor=5, total_memory=15109MB, multi_processor_count=40)\n"
          ],
          "name": "stdout"
        }
      ]
    },
    {
      "cell_type": "markdown",
      "metadata": {
        "id": "EaHkbNbzddv_"
      },
      "source": [
        "Создаем необходимые временные папки и скачиваем видео "
      ]
    },
    {
      "cell_type": "code",
      "metadata": {
        "id": "w_QY8tTRQag5"
      },
      "source": [
        "!sudo rm -rf /content/images\n",
        "!sudo rm -rf /content/drive/MyDrive/Project/yolov3/runs\n",
        "!sudo rm -rf /content/output\n",
        "!sudo rm -rf /content/images\n",
        "!sudo rm -rf /content/video.mp4"
      ],
      "execution_count": 8,
      "outputs": []
    },
    {
      "cell_type": "code",
      "metadata": {
        "colab": {
          "base_uri": "https://localhost:8080/"
        },
        "id": "kgVZvx4i62C8",
        "outputId": "96c34353-60db-44cb-881c-7323efbf5517"
      },
      "source": [
        "%cd /content\n",
        "!mkdir images\n",
        "!mkdir output"
      ],
      "execution_count": 9,
      "outputs": [
        {
          "output_type": "stream",
          "text": [
            "/content\n"
          ],
          "name": "stdout"
        }
      ]
    },
    {
      "cell_type": "code",
      "metadata": {
        "colab": {
          "base_uri": "https://localhost:8080/"
        },
        "id": "Vuodxd0BuNek",
        "outputId": "e39543ca-f7c2-44fb-db79-b12be6f47166"
      },
      "source": [
        "# !gdown --id 1kh34S1LEW7eMB48hCsCukUXWvWgl2HEI -O /content/video.mp4\n",
        "!gdown --id 1c4AOUv43CGOH3qR9axkN7J30s0TlAHbT -O /content/video.mp4"
      ],
      "execution_count": 10,
      "outputs": [
        {
          "output_type": "stream",
          "text": [
            "Downloading...\n",
            "From: https://drive.google.com/uc?id=1c4AOUv43CGOH3qR9axkN7J30s0TlAHbT\n",
            "To: /content/video.mp4\n",
            "\r0.00B [00:00, ?B/s]\r4.72MB [00:00, 20.9MB/s]\r14.6MB [00:00, 55.2MB/s]\n"
          ],
          "name": "stdout"
        }
      ]
    },
    {
      "cell_type": "markdown",
      "metadata": {
        "id": "xk4VQaSSdy1N"
      },
      "source": [
        "Преобразовываем видео в последовательность картинок"
      ]
    },
    {
      "cell_type": "code",
      "metadata": {
        "id": "n5fUonNt66f6",
        "colab": {
          "base_uri": "https://localhost:8080/"
        },
        "outputId": "68d28f30-8881-47da-9e15-09709f3d767e"
      },
      "source": [
        "%%time\n",
        "!ffmpeg -i '/content/video.mp4' -s 1280x720  '/content/images/out-%06d.jpg'\n",
        "clear_output()"
      ],
      "execution_count": 11,
      "outputs": [
        {
          "output_type": "stream",
          "text": [
            "CPU times: user 104 ms, sys: 9.27 ms, total: 113 ms\n",
            "Wall time: 11.5 s\n"
          ],
          "name": "stdout"
        }
      ]
    },
    {
      "cell_type": "markdown",
      "metadata": {
        "id": "Vw9n6Dzxd7ZJ"
      },
      "source": [
        "Детектим светофоры с помощью подгруженной ранее модели"
      ]
    },
    {
      "cell_type": "code",
      "metadata": {
        "colab": {
          "base_uri": "https://localhost:8080/"
        },
        "id": "zB-QoZu-7BA7",
        "outputId": "02b39c36-09a4-43ac-f8f0-14f34bd19cab"
      },
      "source": [
        "%%time\n",
        "%cd /content/drive/MyDrive/Project/yolov3\n",
        "!python detect_custom.py --weights /content/drive/MyDrive/Alex.pt --img 640 --source /content/images/ --save-dict > /dev/nul"
      ],
      "execution_count": 12,
      "outputs": [
        {
          "output_type": "stream",
          "text": [
            "/content/drive/MyDrive/Project/yolov3\n",
            "YOLOv3  torch 1.8.1+cu101 CUDA:0 (Tesla T4, 15109.75MB)\n",
            "\n",
            "Model Summary: 261 layers, 61922845 parameters, 0 gradients, 156.3 GFLOPS\n",
            "CPU times: user 311 ms, sys: 42.4 ms, total: 354 ms\n",
            "Wall time: 1min 14s\n"
          ],
          "name": "stdout"
        }
      ]
    },
    {
      "cell_type": "code",
      "metadata": {
        "id": "abOVkRJz7ceD"
      },
      "source": [
        "def detect_color(img, Threshold=0.01):\n",
        "    img_hsv = cv2.cvtColor(img, cv2.COLOR_BGR2HSV)\n",
        "\n",
        "    # lower mask (0-10)\n",
        "    lower_red = np.array([0, 70, 50])\n",
        "    upper_red = np.array([10, 255, 255])\n",
        "    mask0 = cv2.inRange(img_hsv, lower_red, upper_red)\n",
        "\n",
        "    # upper mask (170-180)\n",
        "    lower_red1 = np.array([170, 70, 50])\n",
        "    upper_red1 = np.array([180, 255, 255])\n",
        "    mask1 = cv2.inRange(img_hsv, lower_red1, upper_red1)\n",
        "\n",
        "    # defining the Range of yellow color\n",
        "    lower_yellow = np.array([21, 39, 64])\n",
        "    upper_yellow = np.array([40, 255, 255])\n",
        "    mask2 = cv2.inRange(img_hsv, lower_yellow, upper_yellow)\n",
        "\n",
        "    # defining the Range of green color\n",
        "    lowew_green = np.array([40, 30, 72])\n",
        "    upper_green = np.array([102, 255, 255])\n",
        "    mask3 = cv2.inRange(img_hsv, lowew_green, upper_green)\n",
        "\n",
        "    # red pixels' mask\n",
        "    mask_red = mask0 + mask1\n",
        "    mask_yellow = mask2\n",
        "    mask_green = mask3\n",
        "\n",
        "    # Compare the percentage\n",
        "    rate_red = np.count_nonzero(mask_red) / (img.shape[0] * img.shape[1])\n",
        "    rate_yellow = np.count_nonzero(mask_yellow) / (img.shape[0] * img.shape[1])\n",
        "    rate_green = np.count_nonzero(mask_green) / (img.shape[0] * img.shape[1])\n",
        "    rates = [rate_red, rate_yellow, rate_green]\n",
        "    colors = ['red', 'yellow', 'green']\n",
        "    rate_max = max(rates)\n",
        "    if rate_max > Threshold:\n",
        "        return colors[rates.index(rate_max)]\n",
        "    else:\n",
        "        return 'unknown'"
      ],
      "execution_count": 13,
      "outputs": []
    },
    {
      "cell_type": "code",
      "metadata": {
        "id": "fTLjF2DKUa1K"
      },
      "source": [
        "def affect_check(x_l, x_r, img_size):\n",
        "    x_thr_r = 0.6 * img_size[1]\n",
        "    x_thr_l = 0.4 * img_size[1]\n",
        "    if  x_l >= x_thr_r or x_r <= x_thr_l:\n",
        "        return True       \n",
        "    else:\n",
        "        return False"
      ],
      "execution_count": 14,
      "outputs": []
    },
    {
      "cell_type": "code",
      "metadata": {
        "id": "ltOYE8_JQrbq"
      },
      "source": [
        "frame_boxes_path = '/content/drive/MyDrive/Project/yolov3/runs/detect/exp/boxes.json'\n",
        "with open(frame_boxes_path) as json_file:\n",
        "    frame_boxes = json.load(json_file)"
      ],
      "execution_count": 15,
      "outputs": []
    },
    {
      "cell_type": "code",
      "metadata": {
        "id": "NQY0HHtfYaMR"
      },
      "source": [
        "img_folder = '/content/images'\n",
        "img_names = os.listdir(img_folder)\n",
        "img_names.sort()"
      ],
      "execution_count": 16,
      "outputs": []
    },
    {
      "cell_type": "code",
      "metadata": {
        "id": "zmm4F47EXzsE"
      },
      "source": [
        "result = {}\n",
        "keys = range(len(img_names))\n",
        "result = {key:{} for key in keys}"
      ],
      "execution_count": 17,
      "outputs": []
    },
    {
      "cell_type": "code",
      "metadata": {
        "id": "42YQLi0I1UEx",
        "colab": {
          "base_uri": "https://localhost:8080/"
        },
        "outputId": "b6224f13-a774-4914-e38a-55d83c37cd39"
      },
      "source": [
        "%%time\n",
        "for img_path, boxes in frame_boxes.items():\n",
        "    j = 0\n",
        "    for box in boxes:\n",
        "        xywh = np.array(box)\n",
        "        img = cv2.imread(img_path)\n",
        "        h = img.shape[0]\n",
        "        w = img.shape[1]\n",
        "        x1 = round((xywh[0] - xywh[2] / 2) * w)\n",
        "        x2 = round((xywh[0] + xywh[2] / 2) * w)\n",
        "        y1 = round((xywh[1] - xywh[3] / 2) * h)\n",
        "        y2 = round((xywh[1] + xywh[3] / 2) * h)\n",
        "        img_crop = img[y1:y2,x1:x2]\n",
        "\n",
        "        color = detect_color(img_crop)\n",
        "        affect = affect_check(x1, x2, img.shape)\n",
        "\n",
        "        img_name = os.path.split(img_path)[-1]\n",
        "        frame_id = img_names.index(img_name)\n",
        "        result[frame_id][\"traffic_light_%d\" % j] = { 'coords': [x1, y1, x2, y2], \n",
        "                                                     'state': color,\n",
        "                                                     'affect': affect\n",
        "                                                    }\n",
        "        j += 1"
      ],
      "execution_count": 18,
      "outputs": [
        {
          "output_type": "stream",
          "text": [
            "CPU times: user 12.1 s, sys: 95.4 ms, total: 12.2 s\n",
            "Wall time: 12.1 s\n"
          ],
          "name": "stdout"
        }
      ]
    },
    {
      "cell_type": "code",
      "metadata": {
        "id": "AcSuytXf4_39"
      },
      "source": [
        "with open('/content/drive/MyDrive/result.json', 'w') as fp:\n",
        "    json.dump(result, fp, indent=4)"
      ],
      "execution_count": 19,
      "outputs": []
    },
    {
      "cell_type": "markdown",
      "metadata": {
        "id": "UVyz-zTepRnv"
      },
      "source": [
        "КОНЕЦ!"
      ]
    },
    {
      "cell_type": "markdown",
      "metadata": {
        "id": "7B-DyVDfk4If"
      },
      "source": [
        "Далее сделаем видео\n",
        "\n",
        "Размечаем картинки"
      ]
    },
    {
      "cell_type": "code",
      "metadata": {
        "id": "w3DyDy8baRHK"
      },
      "source": [
        "output_folder = '/content/output'\n",
        "for frame_id in result.keys():\n",
        "    img_path = os.path.join(img_folder, img_names[frame_id])\n",
        "    img = cv2.imread(img_path)\n",
        "    for tl in result[frame_id].values():\n",
        "        color = tl['state']\n",
        "        box = tl['coords']\n",
        "        affect = tl['affect']\n",
        "        label = color + ' (' + str(affect) + ')'\n",
        "        cv2.putText(img, label, (box[2], box[3]), \n",
        "                    cv2.FONT_HERSHEY_COMPLEX, \n",
        "                    fontScale=0.8, color=(128, 0, 128), thickness=2)\n",
        "        cv2.rectangle(img, (box[0], box[1]), (box[2], box[3]), \n",
        "                      color=(128, 0, 128), thickness=2)\n",
        "    path_out = os.path.join(output_folder, img_names[frame_id])\n",
        "    cv2.imwrite(path_out, img)"
      ],
      "execution_count": 20,
      "outputs": []
    },
    {
      "cell_type": "markdown",
      "metadata": {
        "id": "iCNf08-JebXc"
      },
      "source": [
        "Собираем видео из размеченных картинок "
      ]
    },
    {
      "cell_type": "code",
      "metadata": {
        "id": "GyMBgu-idqfw"
      },
      "source": [
        "video = cv2.VideoCapture('/content/video.mp4');\n",
        "fps = video.get(cv2.CAP_PROP_FPS)\n",
        "video.release(); \n",
        "with open('/content/fps.txt', 'w') as fp:\n",
        "    fp.write(str(fps))"
      ],
      "execution_count": 21,
      "outputs": []
    },
    {
      "cell_type": "code",
      "metadata": {
        "colab": {
          "base_uri": "https://localhost:8080/"
        },
        "id": "KFrA8yOy53f8",
        "outputId": "ac0d29ff-3467-430b-e860-c63321e55ca2"
      },
      "source": [
        "%%time\n",
        "%cd /content/drive/MyDrive/videos/\n",
        "!ffmpeg -y -framerate \"$(< /content/fps.txt)\" -i /content/output/out-%06d.jpg -c:v libx264 -crf 18 -pix_fmt yuv420p \"$(date)\"\".mp4\"\n",
        "clear_output()"
      ],
      "execution_count": 22,
      "outputs": [
        {
          "output_type": "stream",
          "text": [
            "CPU times: user 636 ms, sys: 64.8 ms, total: 701 ms\n",
            "Wall time: 1min 16s\n"
          ],
          "name": "stdout"
        }
      ]
    }
  ]
}