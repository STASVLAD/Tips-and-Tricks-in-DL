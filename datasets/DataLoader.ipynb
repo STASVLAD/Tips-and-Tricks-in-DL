{
  "nbformat": 4,
  "nbformat_minor": 0,
  "metadata": {
    "colab": {
      "name": "DataLoader.ipynb",
      "provenance": [],
      "collapsed_sections": [],
      "toc_visible": true
    },
    "kernelspec": {
      "display_name": "Python 3",
      "language": "python",
      "name": "python3"
    },
    "language_info": {
      "codemirror_mode": {
        "name": "ipython",
        "version": 3
      },
      "file_extension": ".py",
      "mimetype": "text/x-python",
      "name": "python",
      "nbconvert_exporter": "python",
      "pygments_lexer": "ipython3",
      "version": "3.6.9"
    }
  },
  "cells": [
    {
      "cell_type": "code",
      "metadata": {
        "id": "oLgqRUmkgUqx"
      },
      "source": [
        "#import sys\n",
        "#sys.path.append('/content/drive/MyDrive/Colab Notebooks/tips&tricks/Project')"
      ],
      "execution_count": 69,
      "outputs": []
    },
    {
      "cell_type": "code",
      "metadata": {
        "id": "_t7a9V_p08eR"
      },
      "source": [
        "import torch\n",
        "import numpy as np\n",
        "\n",
        "from datasets import LISADataset\n",
        "from torchvision import transforms"
      ],
      "execution_count": null,
      "outputs": []
    },
    {
      "cell_type": "code",
      "metadata": {
        "id": "G13TaqXjnGSS"
      },
      "source": [
        "class ToTensor(object):\n",
        "    \"\"\"Convert ndarrays in sample to Tensors.\"\"\"\n",
        "\n",
        "    def __call__(self, sample):\n",
        "        image, coords = sample['image'], sample['coords']\n",
        "\n",
        "        # swap color axis because\n",
        "        # numpy image: H x W x C\n",
        "        # torch image: C X H X W\n",
        "        image = torch.from_numpy(image.transpose((2, 0, 1)))\n",
        "        image = image.float().div(255)\n",
        "        coords = torch.from_numpy(coords).float()\n",
        "        return {'image': image,\n",
        "                'coords': coords}"
      ],
      "execution_count": 71,
      "outputs": []
    },
    {
      "cell_type": "code",
      "metadata": {
        "id": "XxLQRLE8LmSV"
      },
      "source": [
        "def collate_fn(batch):\n",
        "    image_list = []\n",
        "    coords_list = []\n",
        "    for sample in batch:\n",
        "        image_list.append(sample['image'])\n",
        "        coords_list.append(sample['coords'])\n",
        "    return torch.stack(image_list, dim = 0), coords_list # tensor (N, 3, 960, 1280), list of N tensors"
      ],
      "execution_count": 74,
      "outputs": []
    },
    {
      "cell_type": "code",
      "metadata": {
        "id": "0K8ZT70iG_W-"
      },
      "source": [
        "def get_loaders(batch_size=128, num_workers=2, transform_train=ToTensor(), transform_test=ToTensor()):\n",
        "    torch.manual_seed(123)  # To ensure the same sampling during each experiment\n",
        "    \n",
        "    train = LISADataset(root_dir='/content/drive/MyDrive/Datasets/lisa', transform=transform_train)\n",
        "    # test = LISADataset(root_dir='/content/drive/MyDrive/Datasets/lisa', transform=transform_test)\n",
        "    \n",
        "    train_loader = torch.utils.data.DataLoader(train, batch_size=batch_size, num_workers=num_workers, collate_fn=collate_fn, shuffle=True)\n",
        "    # test_loader = torch.utils.data.DataLoader(test, batch_size=batch_size, num_workers=num_workers, shuffle=True)\n",
        "    \n",
        "    return train_loader"
      ],
      "execution_count": 75,
      "outputs": []
    }
  ]
}